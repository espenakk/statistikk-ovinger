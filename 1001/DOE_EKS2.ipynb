{
 "cells": [
  {
   "cell_type": "markdown",
   "id": "34dd52e2-c82f-49af-a70c-9a69918187b8",
   "metadata": {},
   "source": [
    "# DOE eksempel 2: Produktuniformitet\n",
    "\n",
    "*Eksempelet og dataene er hentet fra National Institute of Standards and Technology (USA) https://www.itl.nist.gov/div898/handbook/pri/section3/pri3331.htm*\n",
    "\n",
    "En ingeniør skal undersøke hvilken av tre ulike instillinger på et produksjonsverktøy som har størst effekt på produktuniformitet. Responsvariabelen (\"produktuniformitet\") er et mål på avvik fra en bestemt standard. Ingeniøren vurdererte tre faktorer (maskin-instillinger) som vi kaller $A$, $B$ og $C$, og for hver av disse ble det bestemt et lavt og et høyt nivå. Dette er kodet som $x_1 = -1$ og $x_1 = +1$ for faktor $A$, $x_2 = -1$ og $x_2 = +1$ for faktor $B$, og $x_3 = -1$ og $x_3 = +1$ for faktor $C$.\n",
    "\n",
    "Det ble gjennomført et $2^3$ forsøk med gjentak, totalt 16 observasjoner. Forsøkene med faktorkombinasjoner og resultater er lagret i excel-fila produktuniformitet.xlsx."
   ]
  },
  {
   "cell_type": "code",
   "execution_count": null,
   "id": "09579c0b-3766-4d59-b3be-d3580de14a8d",
   "metadata": {
    "tags": []
   },
   "outputs": [],
   "source": [
    "import pandas as pd\n",
    "import seaborn as sns\n",
    "import matplotlib.pyplot as plt\n",
    "import numpy as np\n",
    "import statsmodels.api as sms\n",
    "import statsmodels.formula.api as smf\n",
    "from scipy import stats"
   ]
  },
  {
   "cell_type": "code",
   "execution_count": null,
   "id": "ae234ebb-05f6-496a-99a4-e2d543753c0c",
   "metadata": {
    "tags": []
   },
   "outputs": [],
   "source": [
    "run DOEfunksjoner.ipynb "
   ]
  },
  {
   "cell_type": "markdown",
   "id": "3dd048af-7062-4b28-9e18-265f75c12d19",
   "metadata": {},
   "source": [
    "Vi starter med å lese inn dataene fra excel-arket."
   ]
  },
  {
   "cell_type": "code",
   "execution_count": null,
   "id": "7c183df6-e17f-4604-a6f2-4467081a440a",
   "metadata": {
    "tags": []
   },
   "outputs": [],
   "source": [
    "data = pd.read_excel('produktuniformitet.xlsx')\n",
    "data"
   ]
  },
  {
   "cell_type": "markdown",
   "id": "f52a6843-611c-402f-8aff-958080f932cf",
   "metadata": {},
   "source": [
    "Merk at denne måten å registrere data på er hensiktsmessig for forsøk med gjentak, men passer ikke for å gjøre regresjonsanalyse. Vi lager oss derfor en pandas data frame der de to gjentakene kommer \"under hverandre\". "
   ]
  },
  {
   "cell_type": "code",
   "execution_count": null,
   "id": "b817e52d-7020-44e5-81fe-75bbf4aa77c7",
   "metadata": {
    "tags": []
   },
   "outputs": [],
   "source": [
    "# Vi må få dataene over på et format som passer til regresjonsanalysen\n",
    "df1 = data.iloc[:8, :4]\n",
    "df1.rename(columns = {'y1':'y'}, inplace = True)\n",
    "df2 = data.iloc[:8, [0, 1, 2, 4]]\n",
    "df2.rename(columns = {'y2':'y'}, inplace = True)\n",
    "df = pd.concat([df1, df2], axis=0)\n",
    "#df skriv ut for å se hvordan dataene nå er sortert"
   ]
  },
  {
   "cell_type": "markdown",
   "id": "41416971-a5f4-474d-b3e6-b5d65e07145a",
   "metadata": {},
   "source": [
    "## Plott av hovedeffekter og samspillseffekter\n",
    "\n",
    "Vi begynner med å visualisere hovedeffekter for tre faktorene, og deretter samspill. Merk at et forsøk kan ha mange høyere ordens effekter; i dette tilfellet tre forskjellige tofaktorsamspill ($AB$, $AC$ og $BC$) og et trefaktorsamspill ($ABC$)."
   ]
  },
  {
   "cell_type": "code",
   "execution_count": null,
   "id": "0daddf88-7539-4194-8e81-fe4d25d5f534",
   "metadata": {
    "tags": []
   },
   "outputs": [],
   "source": [
    "hovedeffektsplott(data = df, k = 3, observasjoner = True)"
   ]
  },
  {
   "cell_type": "markdown",
   "id": "e9e4a0b0-96bb-46a1-98cc-d6cf5d7e8076",
   "metadata": {},
   "source": [
    "Fra hovedeffektsplottene ser vi svært like effekter av de tre faktorene A, B og C."
   ]
  },
  {
   "cell_type": "code",
   "execution_count": null,
   "id": "37753fd0-b093-44c3-a8f2-0b6f70aa0ab8",
   "metadata": {
    "tags": []
   },
   "outputs": [],
   "source": [
    "samspillsplott(data = df, k = 3)"
   ]
  },
  {
   "cell_type": "markdown",
   "id": "b8fa4e43-a679-4a48-951d-b739bfdeefcd",
   "metadata": {},
   "source": [
    "I figuren over ser vi tre sampspillsplott. Øverst til venstre ser vi effekten av faktor $B$ når $A$ er på lavt ($x_1 = -1$) og høyt $(x_1 = +1)$ nivå. Øverst til høyre ser vi effekten av faktor $B$ når $A$ er på lavt og høyt nivå. Nederst til høyre ser vi effekten av $C$ når $B$ er på lavt ($x_2 = -1$) og høyt ($x_2 = +1$) nivå. I samspillsplottet til $AB$ ser vi at de to linjene har ganske ulikt stigningstall. Dette kan tyde på at det finnes indikasjoner i dataene på et samspill mellom faktorene $A$ og $B$. "
   ]
  },
  {
   "cell_type": "markdown",
   "id": "f1245be5-581f-4e5f-bab0-5eb273892948",
   "metadata": {},
   "source": [
    "## Multippel lineær regresjon\n",
    "Vi bruker Python til å tilpasse en multippel lineær regresjonsmodell med alle tofaktorsamspill og trefaktor samspill. "
   ]
  },
  {
   "cell_type": "code",
   "execution_count": null,
   "id": "28b482b5-2f0e-4e65-a9aa-4f97def6dc0b",
   "metadata": {
    "tags": []
   },
   "outputs": [],
   "source": [
    "modell = smf.ols('y~x1+x2+x3 + x1*x2 + x2*x3 + x1*x3 + x1*x2*x3', data=df).fit()\n",
    "print(modell.summary())"
   ]
  },
  {
   "cell_type": "markdown",
   "id": "d2b15c67-4060-4c98-9f92-ea87212e6d3b",
   "metadata": {},
   "source": [
    "Vi ser at alle hovedeffektene til faktoren $A$, $B$ og $C$ er signifikante ($p$-verdiene er lavere enn $0.05$). Hovedeffektene er \n",
    "\n",
    "$\\hat{A} = 2 \\cdot 1.375 = 2.75$, \n",
    "\n",
    "$\\hat{B} = 2 \\cdot 1.250 = 2.50$,\n",
    "\n",
    "$\\hat{C} = 2 \\cdot 1.000 = 2.00$.\n",
    "\n",
    "Vi ser også at samspillet mellom faktorene $A$ og $B$ er signifikant. Effektene er visualisert i Paretoplottet under."
   ]
  },
  {
   "cell_type": "code",
   "execution_count": null,
   "id": "a1857ada-e4db-49c6-8829-98ec73ea4591",
   "metadata": {
    "tags": []
   },
   "outputs": [],
   "source": [
    "DOEparetoplott(modell)"
   ]
  },
  {
   "cell_type": "code",
   "execution_count": null,
   "id": "b1dd7331-425b-43c8-b70a-8e0e09223176",
   "metadata": {
    "tags": []
   },
   "outputs": [],
   "source": [
    "# til slutt kan det være nyttig å skrive ut estimatet på variansen og standardavviket til Y:\n",
    "varY = modell.mse_resid\n",
    "sdY = np.sqrt(varY)\n",
    "print(round(sdY,3))"
   ]
  },
  {
   "cell_type": "markdown",
   "id": "3c246284-2581-436d-831e-3f05a0274742",
   "metadata": {},
   "source": [
    "## Konklusjon\n",
    "\n",
    "Vi observerer at både hovedeffekter og samspillseffekter har positivt fortegn. Det vil si at høye nivåer av faktorene alltid er forbundet med økt respons. I dette tilfellet er økt respons det samme som høyere produktuniformitet, som er et ønskelig resultat. Produksjonsverktøyet bør derfor stilles inn på høyt nivå for alle faktorer. Dersom ikke alle faktorer kan stilles på høyt nivå bør faktorene $A$ og $B$ prioriteres da disse har størst hovedeffekt i tillegg til et positivt samspill."
   ]
  },
  {
   "cell_type": "markdown",
   "id": "06a514c8-1189-4b72-97a8-7f5810712488",
   "metadata": {},
   "source": [
    "## Diskusjon\n",
    "\n",
    "I dette eksempelet har vi sett en analyse av resulatetene fra et $2^3$ faktorielt forsøk med gjentak. Det er rekke svakheter i problembeskrivelsen som er hentet fra NIST (national institute of standards and technology). Vi vet verken hvordan responsvariabelen i praksis ble regnet ut, og vi vet veldig lite om de tre faktorene $A$, $B$ og $C$. I et skikkelig forsøk må dette beskrives slik at forsøket både kan forstås og reproduseres. I dette forsøket ser vi også at responsverdien er registrert i heltallsverdier, noe som ikke nødvendigvis passer godt med normalantagelsen. \n",
    "\n",
    "For å sjekke normalantagelsen kan vi plotte et QQ-plott på samme måte som i Fellesmodulen Uke 9. Vi ser QQ-plottet i figuren under. Vi ser en slags trappe-effekt i QQ-plottet fordi observasjonene av $Y$ har heltallsverdier, men ellers ser vi ingen iøyenfallende avvik fra den røde linja. Normaltilnærmingen ser ut til å være OK for dataene. "
   ]
  },
  {
   "cell_type": "code",
   "execution_count": null,
   "id": "1713fc17-01f5-4474-b845-776ca2f96e85",
   "metadata": {
    "tags": []
   },
   "outputs": [],
   "source": [
    "sms.qqplot(modell.resid,line='45',fit=True)\n",
    "plt.ylabel(\"Kvantiler i residualene\")\n",
    "plt.xlabel(\"Kvantiler i normalfordelingen\")\n",
    "plt.show()"
   ]
  }
 ],
 "metadata": {
  "kernelspec": {
   "display_name": "Python 3 (ipykernel)",
   "language": "python",
   "name": "python3"
  },
  "language_info": {
   "codemirror_mode": {
    "name": "ipython",
    "version": 3
   },
   "file_extension": ".py",
   "mimetype": "text/x-python",
   "name": "python",
   "nbconvert_exporter": "python",
   "pygments_lexer": "ipython3",
   "version": "3.11.5"
  }
 },
 "nbformat": 4,
 "nbformat_minor": 5
}
